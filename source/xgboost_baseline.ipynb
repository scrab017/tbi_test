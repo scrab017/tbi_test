{
 "cells": [
  {
   "cell_type": "code",
   "execution_count": 1,
   "id": "35012131",
   "metadata": {},
   "outputs": [],
   "source": [
    "# Packages used with their specific versions\n",
    "# !pip install numpy==1.24.3\n",
    "# !pip install pandas==2.0.3\n",
    "# !pip install nltk==3.8.1\n",
    "# !pip install -U scikit-learn==1.3.0\n",
    "# !pip install xgboost==2.0.0\n",
    "# !pip install tensorflow==2.11.0\n",
    "# !pip install matplotlib==3.7.2\n",
    "# !pip install seaborn==0.12.2\n",
    "\n",
    "# Download stopwords from NLTK\n",
    "# import nltk\n",
    "# nltk.download('stopwords')"
   ]
  },
  {
   "cell_type": "code",
   "execution_count": 2,
   "id": "ca578e50",
   "metadata": {},
   "outputs": [],
   "source": [
    "import numpy as np\n",
    "import pandas as pd\n",
    "from nltk.stem import PorterStemmer\n",
    "from nltk.corpus import stopwords\n",
    "import re\n",
    "from sklearn.feature_extraction.text import CountVectorizer\n",
    "from sklearn.model_selection import train_test_split\n",
    "import tensorflow as tf\n",
    "from sklearn.metrics import accuracy_score, precision_score, recall_score, f1_score, classification_report\n",
    "import xgboost as xgb\n",
    "import matplotlib.pyplot as plt\n",
    "import seaborn as sns"
   ]
  },
  {
   "cell_type": "code",
   "execution_count": 3,
   "id": "d6b2e9be",
   "metadata": {},
   "outputs": [],
   "source": [
    "true_news = pd.read_csv('../data/True.csv')\n",
    "fake_news = pd.read_csv('../data/Fake.csv')"
   ]
  },
  {
   "cell_type": "code",
   "execution_count": 4,
   "id": "dc5362f1",
   "metadata": {},
   "outputs": [
    {
     "data": {
      "text/html": [
       "<div>\n",
       "<style scoped>\n",
       "    .dataframe tbody tr th:only-of-type {\n",
       "        vertical-align: middle;\n",
       "    }\n",
       "\n",
       "    .dataframe tbody tr th {\n",
       "        vertical-align: top;\n",
       "    }\n",
       "\n",
       "    .dataframe thead th {\n",
       "        text-align: right;\n",
       "    }\n",
       "</style>\n",
       "<table border=\"1\" class=\"dataframe\">\n",
       "  <thead>\n",
       "    <tr style=\"text-align: right;\">\n",
       "      <th></th>\n",
       "      <th>title</th>\n",
       "      <th>text</th>\n",
       "      <th>subject</th>\n",
       "      <th>date</th>\n",
       "    </tr>\n",
       "  </thead>\n",
       "  <tbody>\n",
       "    <tr>\n",
       "      <th>0</th>\n",
       "      <td>As U.S. budget fight looms, Republicans flip t...</td>\n",
       "      <td>WASHINGTON (Reuters) - The head of a conservat...</td>\n",
       "      <td>politicsNews</td>\n",
       "      <td>December 31, 2017</td>\n",
       "    </tr>\n",
       "    <tr>\n",
       "      <th>1</th>\n",
       "      <td>U.S. military to accept transgender recruits o...</td>\n",
       "      <td>WASHINGTON (Reuters) - Transgender people will...</td>\n",
       "      <td>politicsNews</td>\n",
       "      <td>December 29, 2017</td>\n",
       "    </tr>\n",
       "    <tr>\n",
       "      <th>2</th>\n",
       "      <td>Senior U.S. Republican senator: 'Let Mr. Muell...</td>\n",
       "      <td>WASHINGTON (Reuters) - The special counsel inv...</td>\n",
       "      <td>politicsNews</td>\n",
       "      <td>December 31, 2017</td>\n",
       "    </tr>\n",
       "    <tr>\n",
       "      <th>3</th>\n",
       "      <td>FBI Russia probe helped by Australian diplomat...</td>\n",
       "      <td>WASHINGTON (Reuters) - Trump campaign adviser ...</td>\n",
       "      <td>politicsNews</td>\n",
       "      <td>December 30, 2017</td>\n",
       "    </tr>\n",
       "    <tr>\n",
       "      <th>4</th>\n",
       "      <td>Trump wants Postal Service to charge 'much mor...</td>\n",
       "      <td>SEATTLE/WASHINGTON (Reuters) - President Donal...</td>\n",
       "      <td>politicsNews</td>\n",
       "      <td>December 29, 2017</td>\n",
       "    </tr>\n",
       "  </tbody>\n",
       "</table>\n",
       "</div>"
      ],
      "text/plain": [
       "                                               title  \\\n",
       "0  As U.S. budget fight looms, Republicans flip t...   \n",
       "1  U.S. military to accept transgender recruits o...   \n",
       "2  Senior U.S. Republican senator: 'Let Mr. Muell...   \n",
       "3  FBI Russia probe helped by Australian diplomat...   \n",
       "4  Trump wants Postal Service to charge 'much mor...   \n",
       "\n",
       "                                                text       subject  \\\n",
       "0  WASHINGTON (Reuters) - The head of a conservat...  politicsNews   \n",
       "1  WASHINGTON (Reuters) - Transgender people will...  politicsNews   \n",
       "2  WASHINGTON (Reuters) - The special counsel inv...  politicsNews   \n",
       "3  WASHINGTON (Reuters) - Trump campaign adviser ...  politicsNews   \n",
       "4  SEATTLE/WASHINGTON (Reuters) - President Donal...  politicsNews   \n",
       "\n",
       "                 date  \n",
       "0  December 31, 2017   \n",
       "1  December 29, 2017   \n",
       "2  December 31, 2017   \n",
       "3  December 30, 2017   \n",
       "4  December 29, 2017   "
      ]
     },
     "execution_count": 4,
     "metadata": {},
     "output_type": "execute_result"
    }
   ],
   "source": [
    "true_news.head()"
   ]
  },
  {
   "cell_type": "code",
   "execution_count": 5,
   "id": "8000d5a4",
   "metadata": {},
   "outputs": [
    {
     "data": {
      "text/plain": [
       "politicsNews    11272\n",
       "worldnews       10145\n",
       "Name: subject, dtype: int64"
      ]
     },
     "execution_count": 5,
     "metadata": {},
     "output_type": "execute_result"
    }
   ],
   "source": [
    "true_news.subject.value_counts(dropna=False)"
   ]
  },
  {
   "cell_type": "markdown",
   "id": "9aff6aa2",
   "metadata": {},
   "source": [
    "### Bearing in mind the three domains outlined in the test - News, Politics, and Others, classifying the two domains as follows:  \n",
    "- **politicsNews (11272)**: to be assigned to the *Politics* domain.  \n",
    "- **worldnews (10145)**: to be placed under the *News* domain.  \n"
   ]
  },
  {
   "cell_type": "code",
   "execution_count": 6,
   "id": "e95cf52a",
   "metadata": {},
   "outputs": [
    {
     "data": {
      "text/html": [
       "<div>\n",
       "<style scoped>\n",
       "    .dataframe tbody tr th:only-of-type {\n",
       "        vertical-align: middle;\n",
       "    }\n",
       "\n",
       "    .dataframe tbody tr th {\n",
       "        vertical-align: top;\n",
       "    }\n",
       "\n",
       "    .dataframe thead th {\n",
       "        text-align: right;\n",
       "    }\n",
       "</style>\n",
       "<table border=\"1\" class=\"dataframe\">\n",
       "  <thead>\n",
       "    <tr style=\"text-align: right;\">\n",
       "      <th></th>\n",
       "      <th>title</th>\n",
       "      <th>text</th>\n",
       "      <th>subject</th>\n",
       "      <th>date</th>\n",
       "    </tr>\n",
       "  </thead>\n",
       "  <tbody>\n",
       "    <tr>\n",
       "      <th>0</th>\n",
       "      <td>Donald Trump Sends Out Embarrassing New Year’...</td>\n",
       "      <td>Donald Trump just couldn t wish all Americans ...</td>\n",
       "      <td>News</td>\n",
       "      <td>December 31, 2017</td>\n",
       "    </tr>\n",
       "    <tr>\n",
       "      <th>1</th>\n",
       "      <td>Drunk Bragging Trump Staffer Started Russian ...</td>\n",
       "      <td>House Intelligence Committee Chairman Devin Nu...</td>\n",
       "      <td>News</td>\n",
       "      <td>December 31, 2017</td>\n",
       "    </tr>\n",
       "    <tr>\n",
       "      <th>2</th>\n",
       "      <td>Sheriff David Clarke Becomes An Internet Joke...</td>\n",
       "      <td>On Friday, it was revealed that former Milwauk...</td>\n",
       "      <td>News</td>\n",
       "      <td>December 30, 2017</td>\n",
       "    </tr>\n",
       "    <tr>\n",
       "      <th>3</th>\n",
       "      <td>Trump Is So Obsessed He Even Has Obama’s Name...</td>\n",
       "      <td>On Christmas day, Donald Trump announced that ...</td>\n",
       "      <td>News</td>\n",
       "      <td>December 29, 2017</td>\n",
       "    </tr>\n",
       "    <tr>\n",
       "      <th>4</th>\n",
       "      <td>Pope Francis Just Called Out Donald Trump Dur...</td>\n",
       "      <td>Pope Francis used his annual Christmas Day mes...</td>\n",
       "      <td>News</td>\n",
       "      <td>December 25, 2017</td>\n",
       "    </tr>\n",
       "  </tbody>\n",
       "</table>\n",
       "</div>"
      ],
      "text/plain": [
       "                                               title  \\\n",
       "0   Donald Trump Sends Out Embarrassing New Year’...   \n",
       "1   Drunk Bragging Trump Staffer Started Russian ...   \n",
       "2   Sheriff David Clarke Becomes An Internet Joke...   \n",
       "3   Trump Is So Obsessed He Even Has Obama’s Name...   \n",
       "4   Pope Francis Just Called Out Donald Trump Dur...   \n",
       "\n",
       "                                                text subject  \\\n",
       "0  Donald Trump just couldn t wish all Americans ...    News   \n",
       "1  House Intelligence Committee Chairman Devin Nu...    News   \n",
       "2  On Friday, it was revealed that former Milwauk...    News   \n",
       "3  On Christmas day, Donald Trump announced that ...    News   \n",
       "4  Pope Francis used his annual Christmas Day mes...    News   \n",
       "\n",
       "                date  \n",
       "0  December 31, 2017  \n",
       "1  December 31, 2017  \n",
       "2  December 30, 2017  \n",
       "3  December 29, 2017  \n",
       "4  December 25, 2017  "
      ]
     },
     "execution_count": 6,
     "metadata": {},
     "output_type": "execute_result"
    }
   ],
   "source": [
    "fake_news.head()"
   ]
  },
  {
   "cell_type": "code",
   "execution_count": 7,
   "id": "624f0ec4",
   "metadata": {},
   "outputs": [
    {
     "data": {
      "text/plain": [
       "News               9050\n",
       "politics           6841\n",
       "left-news          4459\n",
       "Government News    1570\n",
       "US_News             783\n",
       "Middle-east         778\n",
       "Name: subject, dtype: int64"
      ]
     },
     "execution_count": 7,
     "metadata": {},
     "output_type": "execute_result"
    }
   ],
   "source": [
    "fake_news.subject.value_counts(dropna=False)"
   ]
  },
  {
   "cell_type": "markdown",
   "id": "e27686a9",
   "metadata": {},
   "source": [
    "### The subjects diverge from those specified in the test. Accordingly, the following will be consolidated under the 'Other' domain as follows:  \n",
    "- left-news: 4459  \n",
    "- Government News: 1570  \n",
    "- US_News: 783  \n",
    "- Middle-east: 778"
   ]
  },
  {
   "cell_type": "code",
   "execution_count": 8,
   "id": "2761e711",
   "metadata": {},
   "outputs": [],
   "source": [
    "domain_map = {\n",
    "    'politicsNews': 'Politics',\n",
    "    'worldnews': 'News',\n",
    "    'News': 'News',\n",
    "    'left-news': 'Other',\n",
    "    'Government News': 'Other',\n",
    "    'US_News': 'Other',\n",
    "    'Middle-east': 'Other',\n",
    "    'politics':'Politics'\n",
    "}\n",
    "\n",
    "true_news['subject'] = true_news['subject'].map(domain_map)\n",
    "fake_news['subject'] = fake_news['subject'].map(domain_map)"
   ]
  },
  {
   "cell_type": "markdown",
   "id": "e3e848c7",
   "metadata": {},
   "source": [
    "### For the baseline model, training an XGBoost model using only the title and the subject/domain\n",
    "\n",
    "### Rationale:\n",
    "\n",
    "1. **Headlines tell a lot**: News titles often contain key clues about authenticity without needing full articles\n",
    "2. **Topics matter**: Knowing if content is about politics vs. general news helps interpret language patterns correctly\n",
    "3. **XGBoost is powerful**: This algorithm finds important connections between words and fakeness\n",
    "4. **Fast and simple**: Works well without complex processing or expensive computing\n",
    "5. **Easy to understand**: We can see which words in headlines most strongly signal fake news"
   ]
  },
  {
   "cell_type": "code",
   "execution_count": 9,
   "id": "e81e02b0",
   "metadata": {},
   "outputs": [],
   "source": [
    "# Create labeled datasets with subject information\n",
    "true_df = pd.concat([true_news['title'], true_news['subject'], pd.Series(0, index=true_news.index, name='label')], axis=1)\n",
    "fake_df = pd.concat([fake_news['title'], fake_news['subject'], pd.Series(1, index=fake_news.index, name='label')], axis=1)\n",
    "\n",
    "# Combine and shuffle data\n",
    "news_df = pd.concat([true_df, fake_df], axis=0).sample(frac=1.0, random_state=34).reset_index(drop=True)"
   ]
  },
  {
   "cell_type": "markdown",
   "id": "f2db786d",
   "metadata": {},
   "source": [
    "# Text Preprocessing Pipeline\n",
    "This pipeline normalizes news titles for fake/real classification by:\n",
    "- Converting to lowercase for consistency\n",
    "- Replacing dollar amounts with \"dollar\" token\n",
    "- Removing non-alphanumeric characters\n",
    "- Standardizing numbers as \"number\" token\n",
    "- Removing English stopwords to focus on content words\n",
    "- Applying Porter stemming to reduce word variations\n",
    "- Creating tokenized lists for model input flexibility"
   ]
  },
  {
   "cell_type": "code",
   "execution_count": 10,
   "id": "5ef0e86e",
   "metadata": {},
   "outputs": [],
   "source": [
    "ps = PorterStemmer()\n",
    "stop_words = set(stopwords.words('english'))\n",
    "\n",
    "def process_title(title):\n",
    "    new_title = title.lower()\n",
    "    new_title = re.sub(r'\\$[^\\s]+', 'dollar', new_title)\n",
    "    new_title = re.sub(r'[^a-z0-9\\s]', '', new_title)\n",
    "    new_title = re.sub(r'[0-9]+', 'number', new_title)\n",
    "    new_title = new_title.split(\" \")\n",
    "    new_title = [word for word in new_title if word not in stop_words]\n",
    "    new_title = list(map(lambda x: ps.stem(x), new_title))\n",
    "    new_title = list(map(lambda x: x.strip(), new_title))\n",
    "    if '' in new_title:\n",
    "        new_title.remove('')\n",
    "    return new_title\n",
    "\n",
    "news_df['processed_title'] = news_df['title'].apply(process_title)\n",
    "news_df['processed_text'] = news_df['processed_title'].apply(lambda x: ' '.join(x))"
   ]
  },
  {
   "cell_type": "markdown",
   "id": "37357666",
   "metadata": {},
   "source": [
    "### Training\n",
    "\n",
    "1. **Stratified Train-Test Split**: \n",
    "   - Preserves distribution of both news labels (fake/real) and subject categories\n",
    "   - Uses 75%/25% train/test ratio with fixed random seed for reproducibility\n",
    "\n",
    "2. **Text Vectorization**:\n",
    "   - Applies CountVectorizer with min_df=5 to filter out rare terms\n",
    "   - Creates bag-of-words representation of processed text\n",
    "   - Maintains consistent feature space between train and test sets\n",
    "\n",
    "3. **XGBoost Model**:\n",
    "   - Converts data to XGBoost's optimized DMatrix format\n",
    "   - Uses binary logistic objective for classification with AUC evaluation\n",
    "   - Implements moderate tree depth (6) and learning rate (0.1)\n",
    "   - Trains with 100 boosting rounds to balance performance and overfitting"
   ]
  },
  {
   "cell_type": "code",
   "execution_count": 11,
   "id": "918a1bab",
   "metadata": {},
   "outputs": [],
   "source": [
    "# Split data while preserving domain distribution\n",
    "X_train, X_test, y_train, y_test = train_test_split(\n",
    "    news_df[['processed_text', 'subject']], \n",
    "    news_df['label'], \n",
    "    test_size=0.25, \n",
    "    random_state=42,\n",
    "    stratify=news_df[['label', 'subject']]\n",
    ")\n",
    "\n",
    "# Create vectorizer and transform text data\n",
    "vectorizer = CountVectorizer(min_df=5)\n",
    "X_train_bow = vectorizer.fit_transform(X_train['processed_text'])\n",
    "X_test_bow = vectorizer.transform(X_test['processed_text'])\n",
    "feature_names = vectorizer.get_feature_names_out()\n",
    "\n",
    "# Train XGBoost model\n",
    "dtrain = xgb.DMatrix(X_train_bow, label=y_train)\n",
    "dtest = xgb.DMatrix(X_test_bow, label=y_test)\n",
    "\n",
    "params = {\n",
    "    'objective': 'binary:logistic',\n",
    "    'eval_metric': 'auc',\n",
    "    'max_depth': 6,\n",
    "    'eta': 0.1\n",
    "}\n",
    "\n",
    "xgb_model = xgb.train(params, dtrain, num_boost_round=100)"
   ]
  },
  {
   "cell_type": "code",
   "execution_count": 12,
   "id": "9930e8fd",
   "metadata": {},
   "outputs": [
    {
     "name": "stdout",
     "output_type": "stream",
     "text": [
      "Overall Model Performance:\n",
      "Accuracy: 0.8620\n",
      "Precision: 0.9450\n",
      "Recall: 0.7816\n",
      "F1 Score: 0.8556\n"
     ]
    }
   ],
   "source": [
    "# Evaluate overall model performance\n",
    "y_pred_proba = xgb_model.predict(dtest)\n",
    "y_pred = [1 if p > 0.5 else 0 for p in y_pred_proba]\n",
    "\n",
    "# Metrics\n",
    "accuracy = accuracy_score(y_test, y_pred)\n",
    "precision = precision_score(y_test, y_pred)\n",
    "recall = recall_score(y_test, y_pred)\n",
    "f1 = f1_score(y_test, y_pred)\n",
    "\n",
    "print(\"Overall Model Performance:\")\n",
    "print(f\"Accuracy: {accuracy:.4f}\")\n",
    "print(f\"Precision: {precision:.4f}\")\n",
    "print(f\"Recall: {recall:.4f}\")\n",
    "print(f\"F1 Score: {f1:.4f}\")"
   ]
  },
  {
   "cell_type": "markdown",
   "id": "a20e94a1",
   "metadata": {},
   "source": [
    "#### Ovr Model Performance\n",
    "\n",
    "The baseline classifier achieves an 86.2% accuracy on the test set. The high precision (94.5%) indicates reliability when the model predicts fake news, with few false positives. The lower recall (78.2%) suggests the model occasionally misses some fake news instances. The balanced F1 score of 85.6% demonstrates good overall performance."
   ]
  },
  {
   "cell_type": "markdown",
   "id": "aad87be0",
   "metadata": {},
   "source": [
    "### Domain Specific Analysis\n",
    "\n",
    "1. Filters test results to domain-specific instances\n",
    "2. Calculates key metrics (accuracy, precision, recall, F1) per domain\n",
    "3. Stores results in a structured dictionary for further analysis"
   ]
  },
  {
   "cell_type": "code",
   "execution_count": 13,
   "id": "82343983",
   "metadata": {},
   "outputs": [
    {
     "name": "stdout",
     "output_type": "stream",
     "text": [
      "\n",
      "Performance by Domain:\n",
      "\n",
      "News Domain:\n",
      "  Accuracy: 0.8750\n",
      "  Precision: 0.9669\n",
      "  Recall: 0.7609\n",
      "  F1 Score: 0.8516\n",
      "\n",
      "Politics Domain:\n",
      "  Accuracy: 0.8991\n",
      "  Precision: 0.8754\n",
      "  Recall: 0.8544\n",
      "  F1 Score: 0.8648\n",
      "\n",
      "Other Domain:\n",
      "  Accuracy: 0.7408\n",
      "  Precision: 1.0000\n",
      "  Recall: 0.7408\n",
      "  F1 Score: 0.8511\n"
     ]
    }
   ],
   "source": [
    "#Create a DataFrame with predictions for domain-specific analysis\n",
    "test_results = X_test.copy()\n",
    "test_results['true_label'] = y_test.values\n",
    "test_results['predicted_label'] = y_pred\n",
    "test_results['predicted_proba'] = y_pred_proba\n",
    "\n",
    "# Evaluate performance by domain\n",
    "print(\"\\nPerformance by Domain:\")\n",
    "domains = ['News', 'Politics', 'Other']\n",
    "domain_metrics = {}\n",
    "\n",
    "for domain in domains:\n",
    "    domain_data = test_results[test_results['subject'] == domain]\n",
    "    if len(domain_data) > 0:\n",
    "        domain_y_true = domain_data['true_label']\n",
    "        domain_y_pred = domain_data['predicted_label']\n",
    "        \n",
    "        domain_accuracy = accuracy_score(domain_y_true, domain_y_pred)\n",
    "        domain_precision = precision_score(domain_y_true, domain_y_pred)\n",
    "        domain_recall = recall_score(domain_y_true, domain_y_pred)\n",
    "        domain_f1 = f1_score(domain_y_true, domain_y_pred)\n",
    "        \n",
    "        domain_metrics[domain] = {\n",
    "            'Accuracy': domain_accuracy,\n",
    "            'Precision': domain_precision,\n",
    "            'Recall': domain_recall,\n",
    "            'F1': domain_f1\n",
    "        }\n",
    "        \n",
    "        print(f\"\\n{domain} Domain:\")\n",
    "        print(f\"  Accuracy: {domain_accuracy:.4f}\")\n",
    "        print(f\"  Precision: {domain_precision:.4f}\")\n",
    "        print(f\"  Recall: {domain_recall:.4f}\")\n",
    "        print(f\"  F1 Score: {domain_f1:.4f}\")"
   ]
  },
  {
   "cell_type": "markdown",
   "id": "e99332c5",
   "metadata": {},
   "source": [
    "### Domain-Specific Performance Results\n",
    "\n",
    "The model shows varying effectiveness across different news domains:\n",
    "\n",
    "- **News Domain**: High precision (96.7%) but lower recall (76.1%), indicating the model rarely misclassifies real news as fake, but misses some fake news articles. Overall accuracy is strong at 87.5%.\n",
    "\n",
    "- **Politics Domain**: Most balanced performance with the highest F1 score (86.5%) and accuracy (89.9%), suggesting the model handles political content particularly well with good balance between precision and recall.\n",
    "\n",
    "- **Other Domain**: Perfect precision (100%) but lowest accuracy (74.1%) and moderate recall, indicating the model is extremely cautious when flagging content as fake in this domain, making no false accusations but missing some fake content."
   ]
  },
  {
   "cell_type": "code",
   "execution_count": 14,
   "id": "3c5933fd",
   "metadata": {},
   "outputs": [
    {
     "data": {
      "text/plain": [
       "<Figure size 1200x800 with 0 Axes>"
      ]
     },
     "metadata": {},
     "output_type": "display_data"
    },
    {
     "data": {
      "image/png": "[encoded data removed]",
      "text/plain": [
       "<Figure size 1200x600 with 1 Axes>"
      ]
     },
     "metadata": {},
     "output_type": "display_data"
    }
   ],
   "source": [
    "# Domain-specific performance metrics\n",
    "metrics_df = pd.DataFrame(domain_metrics).T\n",
    "plt.figure(figsize=(12, 8))\n",
    "metrics_df.plot(kind='bar', figsize=(12, 6))\n",
    "plt.title('Model Performance Across Domains')\n",
    "plt.ylabel('Score')\n",
    "plt.xlabel('Domain')\n",
    "plt.xticks(rotation=0)\n",
    "plt.legend(loc='lower right')\n",
    "plt.tight_layout()\n",
    "plt.show()"
   ]
  },
  {
   "cell_type": "code",
   "execution_count": 15,
   "id": "728d8337",
   "metadata": {},
   "outputs": [
    {
     "name": "stdout",
     "output_type": "stream",
     "text": [
      "\n",
      "Feature Importance Analysis by Domain:\n"
     ]
    },
    {
     "data": {
      "image/png": "[encoded data removed]",
      "text/plain": [
       "<Figure size 1500x1000 with 3 Axes>"
      ]
     },
     "metadata": {},
     "output_type": "display_data"
    },
    {
     "data": {
      "image/png": "[encoded data removed]",
      "text/plain": [
       "<Figure size 1500x500 with 3 Axes>"
      ]
     },
     "metadata": {},
     "output_type": "display_data"
    }
   ],
   "source": [
    "# Feature importance analysis by domain\n",
    "print(\"\\nFeature Importance Analysis by Domain:\")\n",
    "\n",
    "# Overall feature importance\n",
    "importance = xgb_model.get_score(importance_type='weight')\n",
    "word_importance = {}\n",
    "for feature_idx, importance_score in importance.items():\n",
    "    idx = int(feature_idx.replace('f', ''))\n",
    "    if idx < len(feature_names):\n",
    "        word = feature_names[idx]\n",
    "        word_importance[word] = importance_score\n",
    "\n",
    "# Function to analyze domain-specific feature importance\n",
    "def analyze_domain_features(domain_name):\n",
    "    domain_train = X_train[X_train['subject'] == domain_name]\n",
    "    domain_y_train = y_train[domain_train.index]\n",
    "    \n",
    "    # Domain-specific vectorizer\n",
    "    domain_vectorizer = CountVectorizer(min_df=3)\n",
    "    domain_X_train = domain_vectorizer.fit_transform(domain_train['processed_text'])\n",
    "    domain_feature_names = domain_vectorizer.get_feature_names_out()\n",
    "    \n",
    "    # Domain-specific model\n",
    "    domain_dtrain = xgb.DMatrix(domain_X_train, label=domain_y_train)\n",
    "    domain_model = xgb.train(params, domain_dtrain, num_boost_round=100)\n",
    "    \n",
    "    # Domain-specific feature importance\n",
    "    domain_importance = domain_model.get_score(importance_type='weight')\n",
    "    domain_word_importance = {}\n",
    "    for feature_idx, importance_score in domain_importance.items():\n",
    "        idx = int(feature_idx.replace('f', ''))\n",
    "        if idx < len(domain_feature_names):\n",
    "            word = domain_feature_names[idx]\n",
    "            domain_word_importance[word] = importance_score\n",
    "    \n",
    "    return domain_word_importance\n",
    "\n",
    "# Comparison of top features across domains\n",
    "plt.figure(figsize=(15, 10))\n",
    "domain_top_words = {}\n",
    "\n",
    "for i, domain in enumerate(domains):\n",
    "    domain_importance = analyze_domain_features(domain)\n",
    "    sorted_domain_importance = sorted(domain_importance.items(), key=lambda x: x[1], reverse=True)\n",
    "    domain_top_words[domain] = {word: score for word, score in sorted_domain_importance[:10]}\n",
    "    \n",
    "    plt.subplot(1, 3, i+1)\n",
    "    words = [item[0] for item in sorted_domain_importance[:10]]\n",
    "    scores = [item[1] for item in sorted_domain_importance[:10]]\n",
    "    \n",
    "    plt.barh(range(len(words)), scores, align='center')\n",
    "    plt.yticks(range(len(words)), words)\n",
    "    plt.xlabel('Importance Score')\n",
    "    plt.title(f'{domain} Domain')\n",
    "\n",
    "plt.tight_layout()\n",
    "plt.suptitle('Top 10 Important Words by Domain', fontsize=16, y=1.05)\n",
    "plt.show()\n",
    "\n",
    "# confusion matrix for each domain\n",
    "plt.figure(figsize=(15, 5))\n",
    "for i, domain in enumerate(domains):\n",
    "    domain_data = test_results[test_results['subject'] == domain]\n",
    "    if len(domain_data) > 0:\n",
    "        plt.subplot(1, 3, i+1)\n",
    "        cm = pd.crosstab(domain_data['true_label'], domain_data['predicted_label'], \n",
    "                         rownames=['Actual'], colnames=['Predicted'])\n",
    "        sns.heatmap(cm, annot=True, fmt='d', cmap='Blues', cbar=False)\n",
    "        plt.title(f'Confusion Matrix - {domain}')\n",
    "\n",
    "plt.tight_layout()\n",
    "plt.show()"
   ]
  },
  {
   "cell_type": "markdown",
   "id": "7ce1be51",
   "metadata": {},
   "source": [
    "### Domain Coverage Limitation\n",
    "\n",
    "The absence of feature importance results for the \"Other\" domain reveals a critical dataset imbalance: this domain appears exclusively in fake news samples and is completely missing from true news examples. This one-sided distribution creates a perfect but potentially misleading signal (100% precision but lower recall), as the model may simply learn to classify all \"Other\" content as fake. This finding highlights the importance of balanced domain representation across both classes, which will be addressed in the improved approach through better sampling or domain-adaptive techniques."
   ]
  }
 ],
 "metadata": {
  "kernelspec": {
   "display_name": "base",
   "language": "python",
   "name": "python3"
  },
  "language_info": {
   "codemirror_mode": {
    "name": "ipython",
    "version": 3
   },
   "file_extension": ".py",
   "mimetype": "text/x-python",
   "name": "python",
   "nbconvert_exporter": "python",
   "pygments_lexer": "ipython3",
   "version": "3.9.15"
  }
 },
 "nbformat": 4,
 "nbformat_minor": 5
}
